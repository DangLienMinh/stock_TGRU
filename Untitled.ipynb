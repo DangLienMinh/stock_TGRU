{
 "cells": [
  {
   "cell_type": "code",
   "execution_count": null,
   "metadata": {
    "collapsed": true
   },
   "outputs": [],
   "source": [
    "we = 'input/glove_model_latest.npz'\n",
    "w2i_file = \"input/word2idxlatest.json\"\n",
    "\n",
    "npz = np.load(we)\n",
    "W1 = npz['arr_0']\n",
    "W2 = npz['arr_1']\n",
    "embeddings_index = {}\n",
    "\n",
    "We = np.hstack([W1, W2.T])\n",
    "with open(w2i_file) as f:\n",
    "    word2idx = json.load(f)\n",
    "count = 0\n",
    "for key, value in word2idx.items():\n",
    "    embeddings_index[key] = We[count]\n",
    "    count = count + 1\n",
    "# googleVecs = np.array(embeddings_index)\n",
    "print(embeddings_index.shape)\n",
    "embedded2 = Embedding(max_features, 300, input_length=300,weights=[googleVecs])(sequence)"
   ]
  }
 ],
 "metadata": {
  "kernelspec": {
   "display_name": "Python 3",
   "language": "python",
   "name": "python3"
  },
  "language_info": {
   "codemirror_mode": {
    "name": "ipython",
    "version": 3
   },
   "file_extension": ".py",
   "mimetype": "text/x-python",
   "name": "python",
   "nbconvert_exporter": "python",
   "pygments_lexer": "ipython3",
   "version": "3.5.3"
  }
 },
 "nbformat": 4,
 "nbformat_minor": 2
}
